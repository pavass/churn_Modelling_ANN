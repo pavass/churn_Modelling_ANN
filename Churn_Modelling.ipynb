{
  "nbformat": 4,
  "nbformat_minor": 0,
  "metadata": {
    "colab": {
      "name": "Churn_Modelling.ipynb",
      "provenance": [],
      "mount_file_id": "1Sbgy4PrLUgsYDQLXJE4kRHy0ZdVGo4Xe",
      "authorship_tag": "ABX9TyP5Q3yl1el5AevFCIOlH4qr",
      "include_colab_link": true
    },
    "kernelspec": {
      "name": "python3",
      "display_name": "Python 3"
    },
    "accelerator": "GPU"
  },
  "cells": [
    {
      "cell_type": "markdown",
      "metadata": {
        "id": "view-in-github",
        "colab_type": "text"
      },
      "source": [
        "<a href=\"https://colab.research.google.com/github/pavass/churn_Modelling_ANN/blob/master/Churn_Modelling.ipynb\" target=\"_parent\"><img src=\"https://colab.research.google.com/assets/colab-badge.svg\" alt=\"Open In Colab\"/></a>"
      ]
    },
    {
      "cell_type": "code",
      "metadata": {
        "id": "ko6P7Aw8q40X",
        "colab_type": "code",
        "outputId": "2580663f-09db-499b-ddb2-6c2867034b6b",
        "colab": {
          "base_uri": "https://localhost:8080/",
          "height": 54
        }
      },
      "source": [
        "from google.colab import drive\n",
        "drive.mount('/content/gdrive')"
      ],
      "execution_count": 0,
      "outputs": [
        {
          "output_type": "stream",
          "text": [
            "Drive already mounted at /content/gdrive; to attempt to forcibly remount, call drive.mount(\"/content/gdrive\", force_remount=True).\n"
          ],
          "name": "stdout"
        }
      ]
    },
    {
      "cell_type": "code",
      "metadata": {
        "id": "cI0BPc-xwDAg",
        "colab_type": "code",
        "outputId": "87f1a018-0860-4369-d7a0-940c38e6b7ab",
        "colab": {
          "base_uri": "https://localhost:8080/",
          "height": 34
        }
      },
      "source": [
        "import tensorflow as tf\n",
        "tf.test.gpu_device_name()"
      ],
      "execution_count": 0,
      "outputs": [
        {
          "output_type": "execute_result",
          "data": {
            "text/plain": [
              "''"
            ]
          },
          "metadata": {
            "tags": []
          },
          "execution_count": 4
        }
      ]
    },
    {
      "cell_type": "code",
      "metadata": {
        "id": "mc3recFYwMlI",
        "colab_type": "code",
        "outputId": "9f3f20ad-da04-46e9-a1e2-64969ae66968",
        "colab": {
          "base_uri": "https://localhost:8080/",
          "height": 816
        }
      },
      "source": [
        "!cat /proc/meminfo"
      ],
      "execution_count": 0,
      "outputs": [
        {
          "output_type": "stream",
          "text": [
            "MemTotal:       13333556 kB\n",
            "MemFree:        10493520 kB\n",
            "MemAvailable:   12384452 kB\n",
            "Buffers:           72256 kB\n",
            "Cached:          1957796 kB\n",
            "SwapCached:            0 kB\n",
            "Active:           851756 kB\n",
            "Inactive:        1730784 kB\n",
            "Active(anon):     514144 kB\n",
            "Inactive(anon):      320 kB\n",
            "Active(file):     337612 kB\n",
            "Inactive(file):  1730464 kB\n",
            "Unevictable:           0 kB\n",
            "Mlocked:               0 kB\n",
            "SwapTotal:             0 kB\n",
            "SwapFree:              0 kB\n",
            "Dirty:               192 kB\n",
            "Writeback:             0 kB\n",
            "AnonPages:        552460 kB\n",
            "Mapped:           363760 kB\n",
            "Shmem:               908 kB\n",
            "Slab:             165060 kB\n",
            "SReclaimable:     127492 kB\n",
            "SUnreclaim:        37568 kB\n",
            "KernelStack:        4272 kB\n",
            "PageTables:         6972 kB\n",
            "NFS_Unstable:          0 kB\n",
            "Bounce:                0 kB\n",
            "WritebackTmp:          0 kB\n",
            "CommitLimit:     6666776 kB\n",
            "Committed_AS:    3078856 kB\n",
            "VmallocTotal:   34359738367 kB\n",
            "VmallocUsed:           0 kB\n",
            "VmallocChunk:          0 kB\n",
            "Percpu:              920 kB\n",
            "AnonHugePages:         0 kB\n",
            "ShmemHugePages:        0 kB\n",
            "ShmemPmdMapped:        0 kB\n",
            "HugePages_Total:       0\n",
            "HugePages_Free:        0\n",
            "HugePages_Rsvd:        0\n",
            "HugePages_Surp:        0\n",
            "Hugepagesize:       2048 kB\n",
            "Hugetlb:               0 kB\n",
            "DirectMap4k:       83132 kB\n",
            "DirectMap2M:     6207488 kB\n",
            "DirectMap1G:     9437184 kB\n"
          ],
          "name": "stdout"
        }
      ]
    },
    {
      "cell_type": "code",
      "metadata": {
        "id": "2dLp9ROEw2r9",
        "colab_type": "code",
        "colab": {}
      },
      "source": [
        "!pip install -q keras"
      ],
      "execution_count": 0,
      "outputs": []
    },
    {
      "cell_type": "code",
      "metadata": {
        "id": "n71cVf_N1iZp",
        "colab_type": "code",
        "outputId": "3bc7502d-ea34-48b4-8498-b3311efa284c",
        "colab": {
          "base_uri": "https://localhost:8080/",
          "height": 136
        }
      },
      "source": [
        " !apt-get install -y -qq software-properties-common python-software-properties module-init-tools\n",
        " !add-apt-repository -y ppa:alessandro-strada/ppa 2>&1 > /dev/null \n",
        " !apt-get update -qq 2>&1 > /dev/null\n",
        " !apt-get -y install -qq google-drive-ocamlfuse fuse"
      ],
      "execution_count": 0,
      "outputs": [
        {
          "output_type": "stream",
          "text": [
            "E: Package 'python-software-properties' has no installation candidate\n",
            "Selecting previously unselected package google-drive-ocamlfuse.\n",
            "(Reading database ... 144429 files and directories currently installed.)\n",
            "Preparing to unpack .../google-drive-ocamlfuse_0.7.21-0ubuntu1~ubuntu18.04.1_amd64.deb ...\n",
            "Unpacking google-drive-ocamlfuse (0.7.21-0ubuntu1~ubuntu18.04.1) ...\n",
            "Setting up google-drive-ocamlfuse (0.7.21-0ubuntu1~ubuntu18.04.1) ...\n",
            "Processing triggers for man-db (2.8.3-2ubuntu0.1) ...\n"
          ],
          "name": "stdout"
        }
      ]
    },
    {
      "cell_type": "code",
      "metadata": {
        "id": "iMwKdMYix_cF",
        "colab_type": "code",
        "colab": {}
      },
      "source": [
        "import pandas as pd"
      ],
      "execution_count": 0,
      "outputs": []
    },
    {
      "cell_type": "code",
      "metadata": {
        "id": "tj4B0GTR2ZEo",
        "colab_type": "code",
        "colab": {}
      },
      "source": [
        "# Generate auth tokens for Colab\n",
        "\n",
        "from google.colab import auth \n",
        "auth.authenticate_user()"
      ],
      "execution_count": 0,
      "outputs": []
    },
    {
      "cell_type": "code",
      "metadata": {
        "id": "6bS13rck2l5V",
        "colab_type": "code",
        "outputId": "fbf028c4-3841-43e3-a3fb-105c214f41a3",
        "colab": {
          "base_uri": "https://localhost:8080/",
          "height": 105
        }
      },
      "source": [
        "# Generate creds for the Drive FUSE library.\n",
        "\n",
        "from oauth2client.client import GoogleCredentials \n",
        "creds = GoogleCredentials.get_application_default()\n",
        "import getpass \n",
        "!google-drive-ocamlfuse -headless -id={creds.client_id} -secret={creds.client_secret} < /dev/null 2>&1 | grep URL\n",
        "vcode = getpass.getpass() \n",
        "!echo {vcode} | google-drive-ocamlfuse -headless -id={creds.client_id} -secret={creds.client_secret}"
      ],
      "execution_count": 0,
      "outputs": [
        {
          "output_type": "stream",
          "text": [
            "Please, open the following URL in a web browser: https://accounts.google.com/o/oauth2/auth?client_id=32555940559.apps.googleusercontent.com&redirect_uri=urn%3Aietf%3Awg%3Aoauth%3A2.0%3Aoob&scope=https%3A%2F%2Fwww.googleapis.com%2Fauth%2Fdrive&response_type=code&access_type=offline&approval_prompt=force\n",
            "··········\n",
            "Please, open the following URL in a web browser: https://accounts.google.com/o/oauth2/auth?client_id=32555940559.apps.googleusercontent.com&redirect_uri=urn%3Aietf%3Awg%3Aoauth%3A2.0%3Aoob&scope=https%3A%2F%2Fwww.googleapis.com%2Fauth%2Fdrive&response_type=code&access_type=offline&approval_prompt=force\n",
            "Please enter the verification code: Access token retrieved correctly.\n"
          ],
          "name": "stdout"
        }
      ]
    },
    {
      "cell_type": "code",
      "metadata": {
        "id": "YXdHE_CY29cW",
        "colab_type": "code",
        "outputId": "0464a0e6-a991-437a-fb32-20c7acca7193",
        "colab": {
          "base_uri": "https://localhost:8080/",
          "height": 51
        }
      },
      "source": [
        "# Create a directory and mount Google Drive using that directory.\n",
        "\n",
        "!mkdir -p drive\n",
        "!google-drive-ocamlfuse drive"
      ],
      "execution_count": 0,
      "outputs": [
        {
          "output_type": "stream",
          "text": [
            "fuse: mountpoint is not empty\n",
            "fuse: if you are sure this is safe, use the 'nonempty' mount option\n"
          ],
          "name": "stdout"
        }
      ]
    },
    {
      "cell_type": "code",
      "metadata": {
        "id": "OHAcZPzT3Fh1",
        "colab_type": "code",
        "outputId": "73d3a60a-e590-4510-fbc2-82d7dc67ca60",
        "colab": {
          "base_uri": "https://localhost:8080/",
          "height": 51
        }
      },
      "source": [
        "print ('Files in Drive:')\n",
        "!ls drive/"
      ],
      "execution_count": 0,
      "outputs": [
        {
          "output_type": "stream",
          "text": [
            "Files in Drive:\n",
            "'My Drive'\n"
          ],
          "name": "stdout"
        }
      ]
    },
    {
      "cell_type": "code",
      "metadata": {
        "id": "qfD41lMfyNMv",
        "colab_type": "code",
        "outputId": "22fdfa2c-1326-401e-c363-2062063039e8",
        "colab": {
          "base_uri": "https://localhost:8080/",
          "height": 1000
        }
      },
      "source": [
        "# Artificial Neural Network\n",
        "\n",
        "\n",
        "# Part 1 - Data Preprocessing\n",
        "\n",
        "# Importing the libraries\n",
        "import numpy as np\n",
        "import matplotlib.pyplot as plt\n",
        "import pandas as pd\n",
        "\n",
        "# Importing the dataset\n",
        "dataset = pd.read_csv('/content/drive/My Drive/Colab Notebooks/ANN/Churn_Modelling.csv',encoding='utf8')\n",
        "X = dataset.iloc[:, 3:13]\n",
        "y = dataset.iloc[:, 13]\n",
        "\n",
        "#Create dummy variables\n",
        "geography=pd.get_dummies(X[\"Geography\"],drop_first=True)\n",
        "gender=pd.get_dummies(X['Gender'],drop_first=True)\n",
        "\n",
        "## Concatenate the Data Frames\n",
        "\n",
        "X=pd.concat([X,geography,gender],axis=1)\n",
        "\n",
        "## Drop Unnecessary columns\n",
        "X=X.drop(['Geography','Gender'],axis=1)\n",
        "\n",
        "# Splitting the dataset into the Training set and Test set\n",
        "from sklearn.model_selection import train_test_split\n",
        "X_train, X_test, y_train, y_test = train_test_split(X, y, test_size = 0.2, random_state = 0)\n",
        "\n",
        "# Feature Scaling\n",
        "from sklearn.preprocessing import StandardScaler\n",
        "sc = StandardScaler()\n",
        "X_train = sc.fit_transform(X_train)\n",
        "X_test = sc.transform(X_test)\n",
        "\n",
        "# Part 2 - Now let's make the ANN!\n",
        "\n",
        "# Importing the Keras libraries and packages\n",
        "import keras\n",
        "from keras.models import Sequential\n",
        "from keras.layers import Dense\n",
        "from keras.layers import LeakyReLU,PReLU,ELU\n",
        "from keras.layers import Dropout\n",
        "\n",
        "\n",
        "# Initialising the ANN\n",
        "classifier = Sequential()\n",
        "\n",
        "# Adding the input layer and the first hidden layer\n",
        "classifier.add(Dense(output_dim = 6, init = 'he_uniform',activation='relu',input_dim = 11))\n",
        "\n",
        "# Adding the second hidden layer\n",
        "classifier.add(Dense(output_dim = 6, init = 'he_uniform',activation='relu'))\n",
        "# Adding the output layer\n",
        "classifier.add(Dense(output_dim = 1, init = 'glorot_uniform', activation = 'sigmoid'))\n",
        "\n",
        "# Compiling the ANN\n",
        "classifier.compile(optimizer = 'Adamax', loss = 'binary_crossentropy', metrics = ['accuracy'])\n",
        "\n",
        "# Fitting the ANN to the Training set\n",
        "model_history=classifier.fit(X_train, y_train,validation_split=0.33, batch_size = 10, nb_epoch = 100)\n",
        "\n",
        "# list all data in history\n",
        "\n",
        "print(model_history.history.keys())\n",
        "# summarize history for accuracy\n",
        "plt.plot(model_history.history['accuracy'])\n",
        "plt.plot(model_history.history['val_accuracy'])\n",
        "plt.title('model accuracy')\n",
        "plt.ylabel('accuracy')\n",
        "plt.xlabel('epoch')\n",
        "plt.legend(['train', 'test'], loc='upper left')\n",
        "plt.show()\n",
        "\n",
        "# summarize history for loss\n",
        "plt.plot(model_history.history['loss'])\n",
        "plt.plot(model_history.history['val_loss'])\n",
        "plt.title('model loss')\n",
        "plt.ylabel('loss')\n",
        "plt.xlabel('epoch')\n",
        "plt.legend(['train', 'test'], loc='upper left')\n",
        "plt.show()\n",
        "\n",
        "# Part 3 - Making the predictions and evaluating the model\n",
        "\n",
        "# Predicting the Test set results\n",
        "y_pred = classifier.predict(X_test)\n",
        "y_pred = (y_pred > 0.5)\n",
        "\n",
        "# Making the Confusion Matrix\n",
        "from sklearn.metrics import confusion_matrix\n",
        "cm = confusion_matrix(y_test, y_pred)\n",
        "\n",
        "# Calculate the Accuracy\n",
        "from sklearn.metrics import accuracy_score\n",
        "score=accuracy_score(y_pred,y_test)"
      ],
      "execution_count": 0,
      "outputs": [
        {
          "output_type": "stream",
          "text": [
            "/usr/local/lib/python3.6/dist-packages/ipykernel_launcher.py:45: UserWarning: Update your `Dense` call to the Keras 2 API: `Dense(activation=\"relu\", input_dim=11, units=6, kernel_initializer=\"he_uniform\")`\n",
            "/usr/local/lib/python3.6/dist-packages/ipykernel_launcher.py:48: UserWarning: Update your `Dense` call to the Keras 2 API: `Dense(activation=\"relu\", units=6, kernel_initializer=\"he_uniform\")`\n",
            "/usr/local/lib/python3.6/dist-packages/ipykernel_launcher.py:50: UserWarning: Update your `Dense` call to the Keras 2 API: `Dense(activation=\"sigmoid\", units=1, kernel_initializer=\"glorot_uniform\")`\n",
            "/usr/local/lib/python3.6/dist-packages/ipykernel_launcher.py:56: UserWarning: The `nb_epoch` argument in `fit` has been renamed `epochs`.\n"
          ],
          "name": "stderr"
        },
        {
          "output_type": "stream",
          "text": [
            "Train on 5359 samples, validate on 2641 samples\n",
            "Epoch 1/100\n",
            "5359/5359 [==============================] - 2s 322us/step - loss: 0.7418 - accuracy: 0.5841 - val_loss: 0.5510 - val_accuracy: 0.7789\n",
            "Epoch 2/100\n",
            "5359/5359 [==============================] - 2s 310us/step - loss: 0.5171 - accuracy: 0.7966 - val_loss: 0.4904 - val_accuracy: 0.7970\n",
            "Epoch 3/100\n",
            "5359/5359 [==============================] - 2s 309us/step - loss: 0.4736 - accuracy: 0.8005 - val_loss: 0.4612 - val_accuracy: 0.8008\n",
            "Epoch 4/100\n",
            "5359/5359 [==============================] - 2s 298us/step - loss: 0.4486 - accuracy: 0.8078 - val_loss: 0.4426 - val_accuracy: 0.8076\n",
            "Epoch 5/100\n",
            "5359/5359 [==============================] - 2s 308us/step - loss: 0.4318 - accuracy: 0.8151 - val_loss: 0.4323 - val_accuracy: 0.8160\n",
            "Epoch 6/100\n",
            "5359/5359 [==============================] - 2s 301us/step - loss: 0.4226 - accuracy: 0.8197 - val_loss: 0.4272 - val_accuracy: 0.8152\n",
            "Epoch 7/100\n",
            "5359/5359 [==============================] - 2s 312us/step - loss: 0.4174 - accuracy: 0.8218 - val_loss: 0.4241 - val_accuracy: 0.8164\n",
            "Epoch 8/100\n",
            "5359/5359 [==============================] - 2s 316us/step - loss: 0.4132 - accuracy: 0.8244 - val_loss: 0.4213 - val_accuracy: 0.8156\n",
            "Epoch 9/100\n",
            "5359/5359 [==============================] - 2s 310us/step - loss: 0.4094 - accuracy: 0.8274 - val_loss: 0.4188 - val_accuracy: 0.8164\n",
            "Epoch 10/100\n",
            "5359/5359 [==============================] - 2s 308us/step - loss: 0.4061 - accuracy: 0.8268 - val_loss: 0.4161 - val_accuracy: 0.8183\n",
            "Epoch 11/100\n",
            "5359/5359 [==============================] - 2s 306us/step - loss: 0.4027 - accuracy: 0.8289 - val_loss: 0.4136 - val_accuracy: 0.8179\n",
            "Epoch 12/100\n",
            "5359/5359 [==============================] - 2s 306us/step - loss: 0.3994 - accuracy: 0.8296 - val_loss: 0.4115 - val_accuracy: 0.8186\n",
            "Epoch 13/100\n",
            "5359/5359 [==============================] - 2s 308us/step - loss: 0.3960 - accuracy: 0.8330 - val_loss: 0.4083 - val_accuracy: 0.8213\n",
            "Epoch 14/100\n",
            "5359/5359 [==============================] - 2s 310us/step - loss: 0.3924 - accuracy: 0.8337 - val_loss: 0.4054 - val_accuracy: 0.8239\n",
            "Epoch 15/100\n",
            "5359/5359 [==============================] - 2s 301us/step - loss: 0.3888 - accuracy: 0.8339 - val_loss: 0.4028 - val_accuracy: 0.8262\n",
            "Epoch 16/100\n",
            "5359/5359 [==============================] - 2s 306us/step - loss: 0.3848 - accuracy: 0.8373 - val_loss: 0.4019 - val_accuracy: 0.8232\n",
            "Epoch 17/100\n",
            "5359/5359 [==============================] - 2s 309us/step - loss: 0.3812 - accuracy: 0.8386 - val_loss: 0.3977 - val_accuracy: 0.8300\n",
            "Epoch 18/100\n",
            "5359/5359 [==============================] - 2s 306us/step - loss: 0.3771 - accuracy: 0.8408 - val_loss: 0.3933 - val_accuracy: 0.8307\n",
            "Epoch 19/100\n",
            "5359/5359 [==============================] - 2s 301us/step - loss: 0.3733 - accuracy: 0.8438 - val_loss: 0.3907 - val_accuracy: 0.8289\n",
            "Epoch 20/100\n",
            "5359/5359 [==============================] - 2s 300us/step - loss: 0.3694 - accuracy: 0.8449 - val_loss: 0.3868 - val_accuracy: 0.8357\n",
            "Epoch 21/100\n",
            "5359/5359 [==============================] - 2s 310us/step - loss: 0.3650 - accuracy: 0.8464 - val_loss: 0.3831 - val_accuracy: 0.8364\n",
            "Epoch 22/100\n",
            "5359/5359 [==============================] - 2s 297us/step - loss: 0.3609 - accuracy: 0.8490 - val_loss: 0.3801 - val_accuracy: 0.8387\n",
            "Epoch 23/100\n",
            "5359/5359 [==============================] - 2s 303us/step - loss: 0.3573 - accuracy: 0.8483 - val_loss: 0.3765 - val_accuracy: 0.8410\n",
            "Epoch 24/100\n",
            "5359/5359 [==============================] - 2s 303us/step - loss: 0.3545 - accuracy: 0.8509 - val_loss: 0.3741 - val_accuracy: 0.8413\n",
            "Epoch 25/100\n",
            "5359/5359 [==============================] - 2s 304us/step - loss: 0.3518 - accuracy: 0.8528 - val_loss: 0.3718 - val_accuracy: 0.8429\n",
            "Epoch 26/100\n",
            "5359/5359 [==============================] - 2s 300us/step - loss: 0.3496 - accuracy: 0.8515 - val_loss: 0.3707 - val_accuracy: 0.8417\n",
            "Epoch 27/100\n",
            "5359/5359 [==============================] - 2s 302us/step - loss: 0.3480 - accuracy: 0.8509 - val_loss: 0.3686 - val_accuracy: 0.8436\n",
            "Epoch 28/100\n",
            "5359/5359 [==============================] - 2s 301us/step - loss: 0.3458 - accuracy: 0.8567 - val_loss: 0.3671 - val_accuracy: 0.8425\n",
            "Epoch 29/100\n",
            "5359/5359 [==============================] - 2s 300us/step - loss: 0.3448 - accuracy: 0.8539 - val_loss: 0.3655 - val_accuracy: 0.8451\n",
            "Epoch 30/100\n",
            "5359/5359 [==============================] - 2s 298us/step - loss: 0.3429 - accuracy: 0.8554 - val_loss: 0.3635 - val_accuracy: 0.8474\n",
            "Epoch 31/100\n",
            "5359/5359 [==============================] - 2s 303us/step - loss: 0.3416 - accuracy: 0.8571 - val_loss: 0.3634 - val_accuracy: 0.8493\n",
            "Epoch 32/100\n",
            "5359/5359 [==============================] - 2s 306us/step - loss: 0.3404 - accuracy: 0.8576 - val_loss: 0.3615 - val_accuracy: 0.8493\n",
            "Epoch 33/100\n",
            "5359/5359 [==============================] - 2s 307us/step - loss: 0.3395 - accuracy: 0.8584 - val_loss: 0.3607 - val_accuracy: 0.8489\n",
            "Epoch 34/100\n",
            "5359/5359 [==============================] - 2s 304us/step - loss: 0.3384 - accuracy: 0.8625 - val_loss: 0.3618 - val_accuracy: 0.8466\n",
            "Epoch 35/100\n",
            "5359/5359 [==============================] - 2s 302us/step - loss: 0.3378 - accuracy: 0.8582 - val_loss: 0.3596 - val_accuracy: 0.8493\n",
            "Epoch 36/100\n",
            "5359/5359 [==============================] - 2s 306us/step - loss: 0.3363 - accuracy: 0.8614 - val_loss: 0.3612 - val_accuracy: 0.8493\n",
            "Epoch 37/100\n",
            "5359/5359 [==============================] - 2s 300us/step - loss: 0.3365 - accuracy: 0.8600 - val_loss: 0.3591 - val_accuracy: 0.8512\n",
            "Epoch 38/100\n",
            "5359/5359 [==============================] - 2s 305us/step - loss: 0.3358 - accuracy: 0.8623 - val_loss: 0.3586 - val_accuracy: 0.8497\n",
            "Epoch 39/100\n",
            "5359/5359 [==============================] - 2s 305us/step - loss: 0.3355 - accuracy: 0.8621 - val_loss: 0.3587 - val_accuracy: 0.8512\n",
            "Epoch 40/100\n",
            "5359/5359 [==============================] - 2s 304us/step - loss: 0.3352 - accuracy: 0.8610 - val_loss: 0.3590 - val_accuracy: 0.8508\n",
            "Epoch 41/100\n",
            "5359/5359 [==============================] - 2s 303us/step - loss: 0.3346 - accuracy: 0.8612 - val_loss: 0.3582 - val_accuracy: 0.8493\n",
            "Epoch 42/100\n",
            "5359/5359 [==============================] - 2s 304us/step - loss: 0.3344 - accuracy: 0.8606 - val_loss: 0.3583 - val_accuracy: 0.8531\n",
            "Epoch 43/100\n",
            "5359/5359 [==============================] - 2s 300us/step - loss: 0.3338 - accuracy: 0.8628 - val_loss: 0.3601 - val_accuracy: 0.8497\n",
            "Epoch 44/100\n",
            "5359/5359 [==============================] - 2s 301us/step - loss: 0.3337 - accuracy: 0.8628 - val_loss: 0.3579 - val_accuracy: 0.8516\n",
            "Epoch 45/100\n",
            "5359/5359 [==============================] - 2s 311us/step - loss: 0.3339 - accuracy: 0.8636 - val_loss: 0.3585 - val_accuracy: 0.8516\n",
            "Epoch 46/100\n",
            "5359/5359 [==============================] - 2s 308us/step - loss: 0.3334 - accuracy: 0.8604 - val_loss: 0.3575 - val_accuracy: 0.8535\n",
            "Epoch 47/100\n",
            "5359/5359 [==============================] - 2s 302us/step - loss: 0.3330 - accuracy: 0.8608 - val_loss: 0.3585 - val_accuracy: 0.8531\n",
            "Epoch 48/100\n",
            "5359/5359 [==============================] - 2s 304us/step - loss: 0.3331 - accuracy: 0.8636 - val_loss: 0.3579 - val_accuracy: 0.8538\n",
            "Epoch 49/100\n",
            "5359/5359 [==============================] - 2s 300us/step - loss: 0.3326 - accuracy: 0.8612 - val_loss: 0.3576 - val_accuracy: 0.8542\n",
            "Epoch 50/100\n",
            "5359/5359 [==============================] - 2s 301us/step - loss: 0.3324 - accuracy: 0.8606 - val_loss: 0.3576 - val_accuracy: 0.8531\n",
            "Epoch 51/100\n",
            "5359/5359 [==============================] - 2s 301us/step - loss: 0.3324 - accuracy: 0.8614 - val_loss: 0.3571 - val_accuracy: 0.8516\n",
            "Epoch 52/100\n",
            "5359/5359 [==============================] - 2s 300us/step - loss: 0.3323 - accuracy: 0.8623 - val_loss: 0.3584 - val_accuracy: 0.8519\n",
            "Epoch 53/100\n",
            "5359/5359 [==============================] - 2s 297us/step - loss: 0.3320 - accuracy: 0.8625 - val_loss: 0.3581 - val_accuracy: 0.8512\n",
            "Epoch 54/100\n",
            "5359/5359 [==============================] - 2s 303us/step - loss: 0.3315 - accuracy: 0.8627 - val_loss: 0.3587 - val_accuracy: 0.8516\n",
            "Epoch 55/100\n",
            "5359/5359 [==============================] - 2s 301us/step - loss: 0.3314 - accuracy: 0.8610 - val_loss: 0.3570 - val_accuracy: 0.8519\n",
            "Epoch 56/100\n",
            "5359/5359 [==============================] - 2s 302us/step - loss: 0.3318 - accuracy: 0.8614 - val_loss: 0.3557 - val_accuracy: 0.8531\n",
            "Epoch 57/100\n",
            "5359/5359 [==============================] - 2s 307us/step - loss: 0.3318 - accuracy: 0.8614 - val_loss: 0.3567 - val_accuracy: 0.8538\n",
            "Epoch 58/100\n",
            "5359/5359 [==============================] - 2s 314us/step - loss: 0.3311 - accuracy: 0.8602 - val_loss: 0.3569 - val_accuracy: 0.8535\n",
            "Epoch 59/100\n",
            "5359/5359 [==============================] - 2s 299us/step - loss: 0.3308 - accuracy: 0.8643 - val_loss: 0.3570 - val_accuracy: 0.8565\n",
            "Epoch 60/100\n",
            "5359/5359 [==============================] - 2s 310us/step - loss: 0.3308 - accuracy: 0.8608 - val_loss: 0.3570 - val_accuracy: 0.8538\n",
            "Epoch 61/100\n",
            "5359/5359 [==============================] - 2s 305us/step - loss: 0.3309 - accuracy: 0.8625 - val_loss: 0.3558 - val_accuracy: 0.8554\n",
            "Epoch 62/100\n",
            "5359/5359 [==============================] - 2s 304us/step - loss: 0.3302 - accuracy: 0.8621 - val_loss: 0.3596 - val_accuracy: 0.8519\n",
            "Epoch 63/100\n",
            "5359/5359 [==============================] - 2s 308us/step - loss: 0.3306 - accuracy: 0.8638 - val_loss: 0.3569 - val_accuracy: 0.8546\n",
            "Epoch 64/100\n",
            "5359/5359 [==============================] - 2s 301us/step - loss: 0.3304 - accuracy: 0.8617 - val_loss: 0.3566 - val_accuracy: 0.8550\n",
            "Epoch 65/100\n",
            "5359/5359 [==============================] - 2s 313us/step - loss: 0.3300 - accuracy: 0.8604 - val_loss: 0.3550 - val_accuracy: 0.8576\n",
            "Epoch 66/100\n",
            "5359/5359 [==============================] - 2s 305us/step - loss: 0.3302 - accuracy: 0.8632 - val_loss: 0.3555 - val_accuracy: 0.8546\n",
            "Epoch 67/100\n",
            "5359/5359 [==============================] - 2s 302us/step - loss: 0.3300 - accuracy: 0.8628 - val_loss: 0.3556 - val_accuracy: 0.8561\n",
            "Epoch 68/100\n",
            "5359/5359 [==============================] - 2s 300us/step - loss: 0.3301 - accuracy: 0.8623 - val_loss: 0.3555 - val_accuracy: 0.8546\n",
            "Epoch 69/100\n",
            "5359/5359 [==============================] - 2s 301us/step - loss: 0.3296 - accuracy: 0.8638 - val_loss: 0.3574 - val_accuracy: 0.8538\n",
            "Epoch 70/100\n",
            "5359/5359 [==============================] - 2s 299us/step - loss: 0.3296 - accuracy: 0.8640 - val_loss: 0.3574 - val_accuracy: 0.8508\n",
            "Epoch 71/100\n",
            "5359/5359 [==============================] - 2s 300us/step - loss: 0.3299 - accuracy: 0.8621 - val_loss: 0.3561 - val_accuracy: 0.8538\n",
            "Epoch 72/100\n",
            "5359/5359 [==============================] - 2s 301us/step - loss: 0.3293 - accuracy: 0.8623 - val_loss: 0.3557 - val_accuracy: 0.8557\n",
            "Epoch 73/100\n",
            "5359/5359 [==============================] - 2s 305us/step - loss: 0.3293 - accuracy: 0.8621 - val_loss: 0.3559 - val_accuracy: 0.8561\n",
            "Epoch 74/100\n",
            "5359/5359 [==============================] - 2s 298us/step - loss: 0.3294 - accuracy: 0.8621 - val_loss: 0.3562 - val_accuracy: 0.8550\n",
            "Epoch 75/100\n",
            "5359/5359 [==============================] - 2s 304us/step - loss: 0.3291 - accuracy: 0.8619 - val_loss: 0.3564 - val_accuracy: 0.8531\n",
            "Epoch 76/100\n",
            "5359/5359 [==============================] - 2s 302us/step - loss: 0.3285 - accuracy: 0.8625 - val_loss: 0.3557 - val_accuracy: 0.8573\n",
            "Epoch 77/100\n",
            "5359/5359 [==============================] - 2s 299us/step - loss: 0.3291 - accuracy: 0.8610 - val_loss: 0.3553 - val_accuracy: 0.8550\n",
            "Epoch 78/100\n",
            "5359/5359 [==============================] - 2s 309us/step - loss: 0.3289 - accuracy: 0.8615 - val_loss: 0.3543 - val_accuracy: 0.8588\n",
            "Epoch 79/100\n",
            "5359/5359 [==============================] - 2s 299us/step - loss: 0.3285 - accuracy: 0.8630 - val_loss: 0.3540 - val_accuracy: 0.8569\n",
            "Epoch 80/100\n",
            "5359/5359 [==============================] - 2s 302us/step - loss: 0.3285 - accuracy: 0.8628 - val_loss: 0.3567 - val_accuracy: 0.8550\n",
            "Epoch 81/100\n",
            "5359/5359 [==============================] - 2s 305us/step - loss: 0.3285 - accuracy: 0.8634 - val_loss: 0.3547 - val_accuracy: 0.8576\n",
            "Epoch 82/100\n",
            "5359/5359 [==============================] - 2s 308us/step - loss: 0.3285 - accuracy: 0.8630 - val_loss: 0.3549 - val_accuracy: 0.8538\n",
            "Epoch 83/100\n",
            "5359/5359 [==============================] - 2s 312us/step - loss: 0.3283 - accuracy: 0.8632 - val_loss: 0.3546 - val_accuracy: 0.8588\n",
            "Epoch 84/100\n",
            "5359/5359 [==============================] - 2s 301us/step - loss: 0.3284 - accuracy: 0.8619 - val_loss: 0.3543 - val_accuracy: 0.8569\n",
            "Epoch 85/100\n",
            "5359/5359 [==============================] - 2s 307us/step - loss: 0.3283 - accuracy: 0.8640 - val_loss: 0.3545 - val_accuracy: 0.8561\n",
            "Epoch 86/100\n",
            "5359/5359 [==============================] - 2s 304us/step - loss: 0.3281 - accuracy: 0.8619 - val_loss: 0.3546 - val_accuracy: 0.8591\n",
            "Epoch 87/100\n",
            "5359/5359 [==============================] - 2s 300us/step - loss: 0.3279 - accuracy: 0.8627 - val_loss: 0.3546 - val_accuracy: 0.8584\n",
            "Epoch 88/100\n",
            "5359/5359 [==============================] - 2s 306us/step - loss: 0.3276 - accuracy: 0.8628 - val_loss: 0.3543 - val_accuracy: 0.8573\n",
            "Epoch 89/100\n",
            "5359/5359 [==============================] - 2s 300us/step - loss: 0.3280 - accuracy: 0.8628 - val_loss: 0.3552 - val_accuracy: 0.8565\n",
            "Epoch 90/100\n",
            "5359/5359 [==============================] - 2s 303us/step - loss: 0.3276 - accuracy: 0.8619 - val_loss: 0.3545 - val_accuracy: 0.8554\n",
            "Epoch 91/100\n",
            "5359/5359 [==============================] - 2s 307us/step - loss: 0.3276 - accuracy: 0.8630 - val_loss: 0.3543 - val_accuracy: 0.8569\n",
            "Epoch 92/100\n",
            "5359/5359 [==============================] - 2s 303us/step - loss: 0.3277 - accuracy: 0.8621 - val_loss: 0.3547 - val_accuracy: 0.8569\n",
            "Epoch 93/100\n",
            "5359/5359 [==============================] - 2s 304us/step - loss: 0.3273 - accuracy: 0.8649 - val_loss: 0.3544 - val_accuracy: 0.8542\n",
            "Epoch 94/100\n",
            "5359/5359 [==============================] - 2s 302us/step - loss: 0.3273 - accuracy: 0.8630 - val_loss: 0.3537 - val_accuracy: 0.8584\n",
            "Epoch 95/100\n",
            "5359/5359 [==============================] - 2s 301us/step - loss: 0.3274 - accuracy: 0.8647 - val_loss: 0.3543 - val_accuracy: 0.8554\n",
            "Epoch 96/100\n",
            "5359/5359 [==============================] - 2s 304us/step - loss: 0.3275 - accuracy: 0.8664 - val_loss: 0.3547 - val_accuracy: 0.8561\n",
            "Epoch 97/100\n",
            "5359/5359 [==============================] - 2s 304us/step - loss: 0.3271 - accuracy: 0.8628 - val_loss: 0.3548 - val_accuracy: 0.8546\n",
            "Epoch 98/100\n",
            "5359/5359 [==============================] - 2s 307us/step - loss: 0.3271 - accuracy: 0.8636 - val_loss: 0.3537 - val_accuracy: 0.8584\n",
            "Epoch 99/100\n",
            "5359/5359 [==============================] - 2s 301us/step - loss: 0.3273 - accuracy: 0.8621 - val_loss: 0.3541 - val_accuracy: 0.8591\n",
            "Epoch 100/100\n",
            "5359/5359 [==============================] - 2s 303us/step - loss: 0.3275 - accuracy: 0.8655 - val_loss: 0.3534 - val_accuracy: 0.8569\n",
            "dict_keys(['val_loss', 'val_accuracy', 'loss', 'accuracy'])\n"
          ],
          "name": "stdout"
        },
        {
          "output_type": "display_data",
          "data": {
            "image/png": "[encoded data removed]",
            "text/plain": [
              "<Figure size 432x288 with 1 Axes>"
            ]
          },
          "metadata": {
            "tags": [],
            "needs_background": "light"
          }
        },
        {
          "output_type": "display_data",
          "data": {
            "image/png": "[encoded data removed]",
            "text/plain": [
              "<Figure size 432x288 with 1 Axes>"
            ]
          },
          "metadata": {
            "tags": [],
            "needs_background": "light"
          }
        }
      ]
    },
    {
      "cell_type": "code",
      "metadata": {
        "id": "cLpnfNLB1gJq",
        "colab_type": "code",
        "colab": {}
      },
      "source": [
        ""
      ],
      "execution_count": 0,
      "outputs": []
    },
    {
      "cell_type": "code",
      "metadata": {
        "id": "KgA16MLY0MoG",
        "colab_type": "code",
        "colab": {}
      },
      "source": [
        ""
      ],
      "execution_count": 0,
      "outputs": []
    }
  ]
}